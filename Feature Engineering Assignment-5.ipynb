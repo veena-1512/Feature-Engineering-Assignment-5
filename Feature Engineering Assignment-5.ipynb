{
 "cells": [
  {
   "cell_type": "markdown",
   "id": "56326ab9-efe1-4081-bcba-88e6ede730c7",
   "metadata": {},
   "source": [
    "Q1. Pearson correlation coefficient is a measure of the linear relationship between two variables."
   ]
  },
  {
   "cell_type": "code",
   "execution_count": 1,
   "id": "c5760687-40a7-419a-82ae-1c8a8aacd293",
   "metadata": {},
   "outputs": [
    {
     "name": "stdout",
     "output_type": "stream",
     "text": [
      "Requirement already satisfied: numpy in /opt/conda/lib/python3.10/site-packages (1.23.5)\n",
      "Requirement already satisfied: scipy in /opt/conda/lib/python3.10/site-packages (1.9.3)\n",
      "Note: you may need to restart the kernel to use updated packages.\n"
     ]
    }
   ],
   "source": [
    "pip install numpy scipy"
   ]
  },
  {
   "cell_type": "code",
   "execution_count": 1,
   "id": "a88781cf-5a42-429e-b04e-c1587f51f98c",
   "metadata": {},
   "outputs": [],
   "source": [
    "import numpy as np\n",
    "from scipy.stats import pearsonr\n"
   ]
  },
  {
   "cell_type": "code",
   "execution_count": 2,
   "id": "da9996ac-ec87-4c81-9e98-ba308ff003dc",
   "metadata": {},
   "outputs": [],
   "source": [
    "time_spent = [10, 8, 5, 3, 7, 9, 6, 4, 2, 1]\n",
    "exam_scores = [90, 85, 75, 60, 80, 88, 70, 50, 40, 30]\n"
   ]
  },
  {
   "cell_type": "code",
   "execution_count": 3,
   "id": "9f06a7a8-9724-4329-ac9a-dbfbf3c3133b",
   "metadata": {},
   "outputs": [
    {
     "name": "stdout",
     "output_type": "stream",
     "text": [
      "Pearson correlation coefficient: 0.9486152547703721\n"
     ]
    }
   ],
   "source": [
    "correlation_coefficient, _ = pearsonr(time_spent, exam_scores)\n",
    "\n",
    "print(\"Pearson correlation coefficient:\", correlation_coefficient)"
   ]
  },
  {
   "cell_type": "code",
   "execution_count": 4,
   "id": "6a4a91b3-f1b6-45c7-83f3-b7fe7d84ae6d",
   "metadata": {},
   "outputs": [
    {
     "name": "stdout",
     "output_type": "stream",
     "text": [
      "There is a positive correlation between time spent studying and exam scores.\n"
     ]
    }
   ],
   "source": [
    "if correlation_coefficient > 0:\n",
    "    interpretation = \"There is a positive correlation between time spent studying and exam scores.\"\n",
    "elif correlation_coefficient < 0:\n",
    "    interpretation = \"There is a negative correlation between time spent studying and exam scores.\"\n",
    "else:\n",
    "    interpretation = \"There is no linear correlation between time spent studying and exam scores.\"\n",
    "\n",
    "print(interpretation)\n"
   ]
  },
  {
   "cell_type": "markdown",
   "id": "553f89ef-278b-49e8-bd25-5bf5117e7fce",
   "metadata": {},
   "source": [
    "Q2. Spearman's rank correlation is a measure of the monotonic relationship between two variables. "
   ]
  },
  {
   "cell_type": "code",
   "execution_count": 5,
   "id": "84334ff3-23f4-41e8-8e76-cd17ae3b449b",
   "metadata": {},
   "outputs": [],
   "source": [
    "from scipy.stats import spearmanr\n"
   ]
  },
  {
   "cell_type": "code",
   "execution_count": 6,
   "id": "b66b0260-a421-42ba-a03e-284ea890844a",
   "metadata": {},
   "outputs": [],
   "source": [
    "sleep_hours = [7, 6, 8, 5, 6, 9, 7, 8, 5, 4]\n",
    "job_satisfaction = [8, 6, 9, 5, 7, 9, 6, 8, 4, 3]\n"
   ]
  },
  {
   "cell_type": "code",
   "execution_count": 7,
   "id": "7e60b58a-26ae-407c-8b0f-b7a38233277d",
   "metadata": {},
   "outputs": [
    {
     "name": "stdout",
     "output_type": "stream",
     "text": [
      "Spearman's rank correlation coefficient: 0.9380849911685105\n",
      "P-value: 5.9638042872107395e-05\n"
     ]
    }
   ],
   "source": [
    "correlation_coefficient, p_value = spearmanr(sleep_hours, job_satisfaction)\n",
    "\n",
    "print(\"Spearman's rank correlation coefficient:\", correlation_coefficient)\n",
    "print(\"P-value:\", p_value)\n"
   ]
  },
  {
   "cell_type": "code",
   "execution_count": 8,
   "id": "de53ab5d-dace-4161-8165-e2b360ee70dc",
   "metadata": {},
   "outputs": [
    {
     "name": "stdout",
     "output_type": "stream",
     "text": [
      "There is a significant positive monotonic relationship between sleep hours and job satisfaction.\n"
     ]
    }
   ],
   "source": [
    "if p_value < 0.05:\n",
    "    if correlation_coefficient > 0:\n",
    "        interpretation = \"There is a significant positive monotonic relationship between sleep hours and job satisfaction.\"\n",
    "    elif correlation_coefficient < 0:\n",
    "        interpretation = \"There is a significant negative monotonic relationship between sleep hours and job satisfaction.\"\n",
    "else:\n",
    "    interpretation = \"There is no significant monotonic relationship between sleep hours and job satisfaction.\"\n",
    "\n",
    "print(interpretation)"
   ]
  },
  {
   "cell_type": "markdown",
   "id": "417fe78a-fa67-4e50-8c2f-eb02a8f8c7ad",
   "metadata": {},
   "source": [
    "Q3. Calculate the Pearson correlation coefficient and the Spearman's rank correlation between these two variables and compare the results."
   ]
  },
  {
   "cell_type": "code",
   "execution_count": 9,
   "id": "10fe7093-1694-45ba-9585-f25c145c5420",
   "metadata": {},
   "outputs": [],
   "source": [
    "import numpy as np\n",
    "from scipy.stats import pearsonr, spearmanr\n"
   ]
  },
  {
   "cell_type": "code",
   "execution_count": 10,
   "id": "8f82074a-d08a-4378-a459-9da7afb8f07f",
   "metadata": {},
   "outputs": [],
   "source": [
    "exercise_hours = [3, 5, 2, 6, 4, 7, 1, 5, 3, 4, 2, 6, 7, 4, 3, 1, 5, 6, 2, 4,\n",
    "                  3, 6, 7, 2, 4, 5, 3, 1, 6, 4, 2, 5, 7, 3, 1, 4, 6, 2, 5, 3,\n",
    "                  7, 4, 1, 6, 5, 2, 4, 3, 7, 1]\n",
    "\n",
    "bmi = [22.5, 26.1, 21.3, 27.8, 24.6, 29.5, 19.8, 25.4, 22.1, 23.9, 20.5, 28.2,\n",
    "       30.1, 24.1, 21.7, 19.3, 25.9, 27.3, 20.7, 23.5, 22.6, 27.1, 29.7, 19.9,\n",
    "       23.8, 26.0, 22.2, 18.8, 28.0, 23.6, 20.3, 25.6, 28.8, 21.4, 18.9, 24.0,\n",
    "       27.5, 20.0, 26.3, 21.6, 29.3, 24.8, 18.5, 28.6, 25.7, 20.8, 23.0, 26.8,\n",
    "       21.9, 29.0]"
   ]
  },
  {
   "cell_type": "code",
   "execution_count": 13,
   "id": "43b624a6-4998-4ed9-bced-e5c34aa1307c",
   "metadata": {},
   "outputs": [
    {
     "name": "stdout",
     "output_type": "stream",
     "text": [
      "Pearson correlation coefficient: 0.8289695311924923\n",
      "Spearman's rank correlation coefficient: 0.8340607932033518\n"
     ]
    }
   ],
   "source": [
    "pearson_corr_coeff, _ = pearsonr(exercise_hours, bmi)\n",
    "spearman_corr_coeff, _ = spearmanr(exercise_hours, bmi)\n",
    "\n",
    "print(\"Pearson correlation coefficient:\", pearson_corr_coeff)\n",
    "print(\"Spearman's rank correlation coefficient:\", spearman_corr_coeff)\n"
   ]
  },
  {
   "cell_type": "code",
   "execution_count": 16,
   "id": "8b9c5eae-ad70-4f75-a36b-a6ee49529b6c",
   "metadata": {},
   "outputs": [
    {
     "name": "stdout",
     "output_type": "stream",
     "text": [
      "Comparison: The Spearman's rank correlation coefficient is larger in magnitude.\n"
     ]
    }
   ],
   "source": [
    "# Compare the results\n",
    "if abs(pearson_corr_coeff) > abs(spearman_corr_coeff):\n",
    "    comparison = \"The Pearson correlation coefficient is larger in magnitude.\"\n",
    "elif abs(spearman_corr_coeff) > abs(pearson_corr_coeff):\n",
    "    comparison = \"The Spearman's rank correlation coefficient is larger in magnitude.\"\n",
    "else:\n",
    "    comparison = \"Both correlation coefficients have the same magnitude.\"\n",
    "\n",
    "print(\"Comparison:\", comparison)"
   ]
  },
  {
   "cell_type": "markdown",
   "id": "2eb2bf4b-783f-4b7a-8ad6-dbf471df9f6c",
   "metadata": {},
   "source": [
    "Q4.calculate the Pearson correlation coefficient between the number of hours individuals spend watching television per day and their level of physical activity"
   ]
  },
  {
   "cell_type": "code",
   "execution_count": 26,
   "id": "63898d6b-8492-401b-86c4-e79f553674ba",
   "metadata": {},
   "outputs": [
    {
     "name": "stdout",
     "output_type": "stream",
     "text": [
      "Pearson correlation coefficient: -0.8843592199119049\n"
     ]
    }
   ],
   "source": [
    "import numpy as np\n",
    "tv_hours = [2.5, 3.0, 4.5, 2.0, 5.0, 1.5, 4.0, 3.5, 2.0, 1.0,\n",
    "            3.0, 2.5, 4.0, 1.5, 5.5, 3.0, 2.5, 4.0, 2.0, 1.0,\n",
    "            4.5, 2.0, 3.5, 2.5, 4.0, 3.0, 2.0, 5.0, 1.5, 3.0,\n",
    "            2.5, 4.0, 1.0, 5.5, 2.0, 3.0, 4.0, 2.5, 1.5, 3.5,\n",
    "            2.0, 4.5, 2.5, 3.0, 4.0, 1.0, 5.0, 2.5, 3.5, 4.0]\n",
    "\n",
    "physical_activity = [45, 60, 30, 75, 15, 90, 40, 50, 70, 100,\n",
    "                     60, 45, 35, 85, 10, 60, 50, 40, 65, 90,\n",
    "                     25, 70, 55, 45, 40, 60, 75, 20, 85, 60,\n",
    "                     45, 40, 50, 15, 70, 60, 40, 45, 55, 30,\n",
    "                     70, 25, 45, 60, 40, 90, 15, 50, 35, 40]\n",
    "\n",
    "# Calculate Pearson correlation coefficient\n",
    "correlation_coefficient = np.corrcoef(tv_hours, physical_activity)[0, 1]\n",
    "\n",
    "print(\"Pearson correlation coefficient:\", correlation_coefficient)"
   ]
  },
  {
   "cell_type": "markdown",
   "id": "fc671e95-9e8b-407e-8fe9-f3147b7b4fa6",
   "metadata": {},
   "source": [
    "Q5. A survey was conducted to examine the relationship between age and preference for a particular \n",
    "brand of soft drink."
   ]
  },
  {
   "cell_type": "code",
   "execution_count": 31,
   "id": "9aecea88-8b70-4d12-8bf8-4ccc99b38e3d",
   "metadata": {},
   "outputs": [
    {
     "name": "stdout",
     "output_type": "stream",
     "text": [
      "Mean Age: 30.333333333333332\n",
      "Most Common Soft Drink Preference: coke\n"
     ]
    }
   ],
   "source": [
    "import numpy as np\n",
    "import matplotlib.pyplot as plt\n",
    "from collections import Counter\n",
    "\n",
    "ages = [25, 42, 37, 19, 31, 28]\n",
    "preferences = [\"coke\", \"pepsi\", \"Mountain dew\", \"coke\", \"pepsi\", \"Coke\"]\n",
    "\n",
    "# Analyze the data\n",
    "age_mean = np.mean(ages)\n",
    "most_common_preference = Counter(preferences).most_common(1)[0][0]\n",
    "\n",
    "print(\"Mean Age:\", age_mean)\n",
    "print(\"Most Common Soft Drink Preference:\", most_common_preference)"
   ]
  },
  {
   "cell_type": "code",
   "execution_count": 28,
   "id": "9d92ec08-5c67-48df-af60-c8d8080aca45",
   "metadata": {},
   "outputs": [],
   "source": [
    "preference_counts = Counter(preferences)\n",
    "preferences_labels = list(preference_counts.keys())\n",
    "preferences_values = list(preference_counts.values())\n"
   ]
  },
  {
   "cell_type": "code",
   "execution_count": 29,
   "id": "c9b112d5-e731-4313-8a03-333240879884",
   "metadata": {},
   "outputs": [
    {
     "data": {
      "image/png": "[encoded data removed]",
      "text/plain": [
       "<Figure size 640x480 with 1 Axes>"
      ]
     },
     "metadata": {},
     "output_type": "display_data"
    }
   ],
   "source": [
    "plt.bar(preferences_labels, preferences_values)\n",
    "plt.xlabel(\"Soft Drink Preference\")\n",
    "plt.ylabel(\"Frequency\")\n",
    "plt.title(\"Soft Drink Preference by Frequency\")\n",
    "plt.show()"
   ]
  },
  {
   "cell_type": "markdown",
   "id": "1a7161e1-a684-4b6b-852b-7d02b7ee1373",
   "metadata": {},
   "source": [
    "Q6. Calculate the Pearson correlation coefficient between these two variables."
   ]
  },
  {
   "cell_type": "code",
   "execution_count": 30,
   "id": "719ca62f-88b9-4965-b238-fe05687b630a",
   "metadata": {},
   "outputs": [
    {
     "name": "stdout",
     "output_type": "stream",
     "text": [
      "Pearson correlation coefficient: 0.9987867154254522\n"
     ]
    }
   ],
   "source": [
    "sales_calls_per_day = [20, 25, 15, 10, 30, 22, 18, 28, 12, 35,\n",
    "                       24, 17, 19, 27, 32, 14, 21, 23, 16, 29,\n",
    "                       26, 11, 31, 13, 9, 33, 8, 36, 7, 34]\n",
    "\n",
    "sales_per_week = [200, 240, 150, 120, 300, 220, 180, 280, 130, 350,\n",
    "                  240, 170, 190, 270, 320, 140, 210, 230, 160, 290,\n",
    "                  260, 110, 310, 130, 90, 330, 80, 360, 70, 340] \n",
    "\n",
    "correlation_coefficient = np.corrcoef(sales_calls_per_day, sales_per_week)[0, 1]\n",
    "\n",
    "print(\"Pearson correlation coefficient:\", correlation_coefficient)"
   ]
  }
 ],
 "metadata": {
  "kernelspec": {
   "display_name": "Python 3 (ipykernel)",
   "language": "python",
   "name": "python3"
  },
  "language_info": {
   "codemirror_mode": {
    "name": "ipython",
    "version": 3
   },
   "file_extension": ".py",
   "mimetype": "text/x-python",
   "name": "python",
   "nbconvert_exporter": "python",
   "pygments_lexer": "ipython3",
   "version": "3.10.8"
  }
 },
 "nbformat": 4,
 "nbformat_minor": 5
}
